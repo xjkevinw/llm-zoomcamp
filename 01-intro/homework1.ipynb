{
 "cells": [
  {
   "cell_type": "code",
   "execution_count": 1,
   "id": "e49780ba-2d17-4ca8-9ed6-bbbc3d34d83f",
   "metadata": {},
   "outputs": [],
   "source": [
    "import openai"
   ]
  },
  {
   "cell_type": "code",
   "execution_count": 2,
   "id": "f3ee37af-b922-4040-b93d-bda55664240e",
   "metadata": {},
   "outputs": [],
   "source": [
    "from openai import OpenAI"
   ]
  },
  {
   "cell_type": "code",
   "execution_count": 3,
   "id": "17386d21-4248-4c2d-b2c8-2882ac0d3bed",
   "metadata": {},
   "outputs": [],
   "source": [
    "client = OpenAI()"
   ]
  },
  {
   "cell_type": "code",
   "execution_count": 4,
   "id": "9ca7fbad-8773-44dc-b41c-ac4a4ec066c7",
   "metadata": {},
   "outputs": [],
   "source": [
    "import os"
   ]
  },
  {
   "cell_type": "code",
   "execution_count": 1,
   "id": "bca09e2b-38fd-4251-8f41-cafc8520c0e2",
   "metadata": {},
   "outputs": [
    {
     "ename": "NameError",
     "evalue": "name 'os' is not defined",
     "output_type": "error",
     "traceback": [
      "\u001b[31m---------------------------------------------------------------------------\u001b[39m",
      "\u001b[31mNameError\u001b[39m                                 Traceback (most recent call last)",
      "\u001b[36mCell\u001b[39m\u001b[36m \u001b[39m\u001b[32mIn[1]\u001b[39m\u001b[32m, line 1\u001b[39m\n\u001b[32m----> \u001b[39m\u001b[32m1\u001b[39m \u001b[43mos\u001b[49m.environfd\n",
      "\u001b[31mNameError\u001b[39m: name 'os' is not defined"
     ]
    }
   ],
   "source": [
    "os.environ"
   ]
  },
  {
   "cell_type": "code",
   "execution_count": 5,
   "id": "42c7ee0b-2c38-439f-b109-f964c477e7d6",
   "metadata": {},
   "outputs": [],
   "source": [
    "response = client.chat.completions.create(\n",
    "    model='gpt-5-mini',\n",
    "    messages =[{\"role\":\"user\",\"content\":\"what is the weather today in houston,TX?\"}]\n",
    ")"
   ]
  },
  {
   "cell_type": "code",
   "execution_count": 6,
   "id": "8db307a2-d91b-453b-abc4-45c57036a549",
   "metadata": {},
   "outputs": [
    {
     "data": {
      "text/plain": [
       "'I can’t fetch live weather data. If you need the current conditions right now, check a live source (phone weather app, Google/Siri, or the National Weather Service Houston/Galveston page: https://www.weather.gov/hgx/).\\n\\nTypical Houston weather for late August (what you can generally expect today):\\n- Highs: about 88–96°F (31–36°C)\\n- Lows: about 74–80°F (23–27°C)\\n- Very humid with heat index often higher than the air temp\\n- Frequent afternoon/evening thunderstorms and brief heavy rain; coastal breezes possible\\n- Possibility of tropical moisture or storm activity during hurricane season\\n\\nIf you want, I can:\\n- Show how to get current weather with an API (example curl for OpenWeatherMap)\\n- Give a climatological 7-day outlook for Houston\\n- Help interpret a current observation if you paste it here\\n\\nWhich would you like?'"
      ]
     },
     "execution_count": 6,
     "metadata": {},
     "output_type": "execute_result"
    }
   ],
   "source": [
    "response.choices[0].message.content"
   ]
  },
  {
   "cell_type": "code",
   "execution_count": null,
   "id": "e72032f7-86e8-48cd-95f0-460cf049483d",
   "metadata": {},
   "outputs": [],
   "source": []
  }
 ],
 "metadata": {
  "kernelspec": {
   "display_name": "Python 3 (ipykernel)",
   "language": "python",
   "name": "python3"
  },
  "language_info": {
   "codemirror_mode": {
    "name": "ipython",
    "version": 3
   },
   "file_extension": ".py",
   "mimetype": "text/x-python",
   "name": "python",
   "nbconvert_exporter": "python",
   "pygments_lexer": "ipython3",
   "version": "3.12.1"
  }
 },
 "nbformat": 4,
 "nbformat_minor": 5
}
