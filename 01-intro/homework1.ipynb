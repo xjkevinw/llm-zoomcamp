{
 "cells": [
  {
   "cell_type": "code",
   "execution_count": 1,
   "id": "e49780ba-2d17-4ca8-9ed6-bbbc3d34d83f",
   "metadata": {},
   "outputs": [],
   "source": [
    "import openai"
   ]
  },
  {
   "cell_type": "code",
   "execution_count": 2,
   "id": "f3ee37af-b922-4040-b93d-bda55664240e",
   "metadata": {},
   "outputs": [],
   "source": [
    "from openai import OpenAI"
   ]
  },
  {
   "cell_type": "code",
   "execution_count": 3,
   "id": "17386d21-4248-4c2d-b2c8-2882ac0d3bed",
   "metadata": {},
   "outputs": [],
   "source": [
    "client = OpenAI()"
   ]
  },
  {
   "cell_type": "code",
   "execution_count": 4,
   "id": "9ca7fbad-8773-44dc-b41c-ac4a4ec066c7",
   "metadata": {},
   "outputs": [],
   "source": [
    "import os"
   ]
  },
  {
   "cell_type": "code",
   "execution_count": 1,
   "id": "bca09e2b-38fd-4251-8f41-cafc8520c0e2",
   "metadata": {},
   "outputs": [
    {
     "ename": "NameError",
     "evalue": "name 'os' is not defined",
     "output_type": "error",
     "traceback": [
      "\u001b[31m---------------------------------------------------------------------------\u001b[39m",
      "\u001b[31mNameError\u001b[39m                                 Traceback (most recent call last)",
      "\u001b[36mCell\u001b[39m\u001b[36m \u001b[39m\u001b[32mIn[1]\u001b[39m\u001b[32m, line 1\u001b[39m\n\u001b[32m----> \u001b[39m\u001b[32m1\u001b[39m \u001b[43mos\u001b[49m.environfd\n",
      "\u001b[31mNameError\u001b[39m: name 'os' is not defined"
     ]
    }
   ],
   "source": [
    "os.environfd"
   ]
  },
  {
   "cell_type": "code",
   "execution_count": 6,
   "id": "42c7ee0b-2c38-439f-b109-f964c477e7d6",
   "metadata": {},
   "outputs": [],
   "source": [
    "response = client.chat.completions.create(\n",
    "    model='gpt-5-mini',\n",
    "    messages =[{\"role\":\"user\",\"content\":\"what is the weather today in nashville tn?\"}]\n",
    ")"
   ]
  },
  {
   "cell_type": "code",
   "execution_count": 7,
   "id": "8db307a2-d91b-453b-abc4-45c57036a549",
   "metadata": {},
   "outputs": [
    {
     "data": {
      "text/plain": [
       "'I can’t fetch live data or check the internet right now, so I can’t tell you the exact current weather in Nashville. \\n\\nIf you want the current conditions immediately, try:\\n- Ask your phone assistant (“Hey Siri/Google, what’s the weather in Nashville?”)\\n- Visit weather.com, AccuWeather, or the National Weather Service (search “Nashville TN weather”)\\n- Check a local TV station or a weather app on your phone\\n\\nTypical late‑August climate in Nashville (for reference):\\n- Average high ≈ 85–90°F (29–32°C), low ≈ 65–70°F (18–21°C)\\n- Humid with a decent chance of afternoon or evening thunderstorms\\n\\nIf you paste a short forecast or the temperature/conditions you see, I can help interpret it or give recommendations (clothing, travel, whether to carry an umbrella).'"
      ]
     },
     "execution_count": 7,
     "metadata": {},
     "output_type": "execute_result"
    }
   ],
   "source": [
    "response.choices[0].message.content"
   ]
  },
  {
   "cell_type": "code",
   "execution_count": null,
   "id": "e72032f7-86e8-48cd-95f0-460cf049483d",
   "metadata": {},
   "outputs": [],
   "source": []
  }
 ],
 "metadata": {
  "kernelspec": {
   "display_name": "Python 3 (ipykernel)",
   "language": "python",
   "name": "python3"
  },
  "language_info": {
   "codemirror_mode": {
    "name": "ipython",
    "version": 3
   },
   "file_extension": ".py",
   "mimetype": "text/x-python",
   "name": "python",
   "nbconvert_exporter": "python",
   "pygments_lexer": "ipython3",
   "version": "3.12.1"
  }
 },
 "nbformat": 4,
 "nbformat_minor": 5
}
